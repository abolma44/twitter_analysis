{
 "metadata": {
  "language_info": {
   "codemirror_mode": {
    "name": "ipython",
    "version": 3
   },
   "file_extension": ".py",
   "mimetype": "text/x-python",
   "name": "python",
   "nbconvert_exporter": "python",
   "pygments_lexer": "ipython3",
   "version": "3.7.1-final"
  },
  "orig_nbformat": 2,
  "kernelspec": {
   "name": "python3",
   "display_name": "Python 3",
   "language": "python"
  }
 },
 "nbformat": 4,
 "nbformat_minor": 2,
 "cells": [
  {
   "cell_type": "code",
   "execution_count": 1,
   "metadata": {},
   "outputs": [],
   "source": [
    "#pip install tweepy"
   ]
  },
  {
   "source": [
    "### Tweepy API Documentation: https://www.earthdatascience.org/courses/use-data-open-source-python/intro-to-apis/twitter-data-in-python/"
   ],
   "cell_type": "markdown",
   "metadata": {}
  },
  {
   "cell_type": "code",
   "execution_count": 1,
   "metadata": {},
   "outputs": [],
   "source": [
    "consumer_key = 'API key'\n",
    "consumer_secret = 'API secret key'\n",
    "token = 'Access token'\n",
    "token_secret = 'Access token secret'"
   ]
  },
  {
   "cell_type": "code",
   "execution_count": 1,
   "metadata": {},
   "outputs": [],
   "source": [
    "import tweepy as tw\n",
    "import pandas as pd"
   ]
  },
  {
   "cell_type": "code",
   "execution_count": 3,
   "metadata": {},
   "outputs": [],
   "source": [
    "auth = tw.OAuthHandler(consumer_key, consumer_secret)\n",
    "auth.set_access_token(token, token_secret)\n",
    "api = tw.API(auth, wait_on_rate_limit=True)"
   ]
  },
  {
   "cell_type": "code",
   "execution_count": 5,
   "metadata": {},
   "outputs": [
    {
     "output_type": "stream",
     "name": "stdout",
     "text": [
      "4358\n"
     ]
    },
    {
     "output_type": "execute_result",
     "data": {
      "text/plain": [
       "                    id                                               text  \\\n",
       "0  1339075577752342531  @CCherryns Dh. Can't send mails to Brunei \\n\\n...   \n",
       "1  1339074734797963265      @goldenzarra @Lyasuhaimi yess it's in brunei😄   \n",
       "2  1339073122046275586  4 Days to go! #4days #Solopreneur #ProductLaun...   \n",
       "3  1339070711353147393  RT @taeyeoncharts: 'What Do I Call You' on iTu...   \n",
       "4  1339068988542730241  According to reports, this iceberg is larger t...   \n",
       "\n",
       "             user                      location             datetime  \n",
       "0      ChocoCara2  NU'NIVERSITY Journalism Dept  2020-12-16 05:11:11  \n",
       "1          sy4krh                            BN  2020-12-16 05:07:50  \n",
       "2         nahabhi                                2020-12-16 05:01:25  \n",
       "3  as_expected_ss                                2020-12-16 04:51:50  \n",
       "4   JagranEnglish              New Delhi, India  2020-12-16 04:45:00  "
      ],
      "text/html": "<div>\n<style scoped>\n    .dataframe tbody tr th:only-of-type {\n        vertical-align: middle;\n    }\n\n    .dataframe tbody tr th {\n        vertical-align: top;\n    }\n\n    .dataframe thead th {\n        text-align: right;\n    }\n</style>\n<table border=\"1\" class=\"dataframe\">\n  <thead>\n    <tr style=\"text-align: right;\">\n      <th></th>\n      <th>id</th>\n      <th>text</th>\n      <th>user</th>\n      <th>location</th>\n      <th>datetime</th>\n    </tr>\n  </thead>\n  <tbody>\n    <tr>\n      <th>0</th>\n      <td>1339075577752342531</td>\n      <td>@CCherryns Dh. Can't send mails to Brunei \\n\\n...</td>\n      <td>ChocoCara2</td>\n      <td>NU'NIVERSITY Journalism Dept</td>\n      <td>2020-12-16 05:11:11</td>\n    </tr>\n    <tr>\n      <th>1</th>\n      <td>1339074734797963265</td>\n      <td>@goldenzarra @Lyasuhaimi yess it's in brunei😄</td>\n      <td>sy4krh</td>\n      <td>BN</td>\n      <td>2020-12-16 05:07:50</td>\n    </tr>\n    <tr>\n      <th>2</th>\n      <td>1339073122046275586</td>\n      <td>4 Days to go! #4days #Solopreneur #ProductLaun...</td>\n      <td>nahabhi</td>\n      <td></td>\n      <td>2020-12-16 05:01:25</td>\n    </tr>\n    <tr>\n      <th>3</th>\n      <td>1339070711353147393</td>\n      <td>RT @taeyeoncharts: 'What Do I Call You' on iTu...</td>\n      <td>as_expected_ss</td>\n      <td></td>\n      <td>2020-12-16 04:51:50</td>\n    </tr>\n    <tr>\n      <th>4</th>\n      <td>1339068988542730241</td>\n      <td>According to reports, this iceberg is larger t...</td>\n      <td>JagranEnglish</td>\n      <td>New Delhi, India</td>\n      <td>2020-12-16 04:45:00</td>\n    </tr>\n  </tbody>\n</table>\n</div>"
     },
     "metadata": {},
     "execution_count": 5
    }
   ],
   "source": [
    "# Define the search term and the date_since date as variables\n",
    "search_words = \"brunei\"\n",
    "date_since = \"2020-12-18\"\n",
    "lang = \"en\"\n",
    "\n",
    "# Collect tweets\n",
    "tweets = tw.Cursor(api.search,\n",
    "                       q=search_words,\n",
    "                       lang=lang,\n",
    "                       since=date_since).items()\n",
    "df = [[tweet.id, tweet.text, tweet.user.screen_name, tweet.user.followers_count, tweet.favorite_count, tweet.retweet_count,tweet.user.location, str(tweet.created_at)] for tweet in tweets]\n",
    "\n",
    "raw_df = pd.DataFrame(df, columns = ['id','text','user','user_followers','favorite_count', 'retweet_count','location','datetime'])\n",
    "print(len(df))\n",
    "raw_df.head()"
   ]
  },
  {
   "cell_type": "code",
   "execution_count": 17,
   "metadata": {},
   "outputs": [
    {
     "output_type": "execute_result",
     "data": {
      "text/plain": [
       "                       id                                               text  \\\n",
       "2295  1339879517943259136  RT @BatEveryHour: The painted bat is a species...   \n",
       "2296  1339879494618759169  \"CRY FOR ME\" — 1's on iTunes:\\n\\n#1 (+1) Brune...   \n",
       "2297  1339879313244622848  RT @dgprPaknavy: High Commissioner of Brunei D...   \n",
       "2298  1339879219841658881  RT @dgprPaknavy: High Commissioner of Brunei D...   \n",
       "2299  1339879068397924352  RT @dgprPaknavy: High Commissioner of Brunei D...   \n",
       "\n",
       "                 user  favorite_count  retweet_count  \\\n",
       "2295     greenspace01               0            989   \n",
       "2296   TWICEANALYTICS             710            217   \n",
       "2297        asimp1111               0             99   \n",
       "2298      MahadBilal5               0             99   \n",
       "2299  Skinny_El3phant               0             99   \n",
       "\n",
       "                         location             datetime  \n",
       "2295  Bathurst, Wiradjuri country  2020-12-18 10:25:45  \n",
       "2296                               2020-12-18 10:25:39  \n",
       "2297                               2020-12-18 10:24:56  \n",
       "2298             Lahore, Pakistan  2020-12-18 10:24:34  \n",
       "2299     127.0.0.1 - Planet Earth  2020-12-18 10:23:58  "
      ],
      "text/html": "<div>\n<style scoped>\n    .dataframe tbody tr th:only-of-type {\n        vertical-align: middle;\n    }\n\n    .dataframe tbody tr th {\n        vertical-align: top;\n    }\n\n    .dataframe thead th {\n        text-align: right;\n    }\n</style>\n<table border=\"1\" class=\"dataframe\">\n  <thead>\n    <tr style=\"text-align: right;\">\n      <th></th>\n      <th>id</th>\n      <th>text</th>\n      <th>user</th>\n      <th>favorite_count</th>\n      <th>retweet_count</th>\n      <th>location</th>\n      <th>datetime</th>\n    </tr>\n  </thead>\n  <tbody>\n    <tr>\n      <th>2295</th>\n      <td>1339879517943259136</td>\n      <td>RT @BatEveryHour: The painted bat is a species...</td>\n      <td>greenspace01</td>\n      <td>0</td>\n      <td>989</td>\n      <td>Bathurst, Wiradjuri country</td>\n      <td>2020-12-18 10:25:45</td>\n    </tr>\n    <tr>\n      <th>2296</th>\n      <td>1339879494618759169</td>\n      <td>\"CRY FOR ME\" — 1's on iTunes:\\n\\n#1 (+1) Brune...</td>\n      <td>TWICEANALYTICS</td>\n      <td>710</td>\n      <td>217</td>\n      <td></td>\n      <td>2020-12-18 10:25:39</td>\n    </tr>\n    <tr>\n      <th>2297</th>\n      <td>1339879313244622848</td>\n      <td>RT @dgprPaknavy: High Commissioner of Brunei D...</td>\n      <td>asimp1111</td>\n      <td>0</td>\n      <td>99</td>\n      <td></td>\n      <td>2020-12-18 10:24:56</td>\n    </tr>\n    <tr>\n      <th>2298</th>\n      <td>1339879219841658881</td>\n      <td>RT @dgprPaknavy: High Commissioner of Brunei D...</td>\n      <td>MahadBilal5</td>\n      <td>0</td>\n      <td>99</td>\n      <td>Lahore, Pakistan</td>\n      <td>2020-12-18 10:24:34</td>\n    </tr>\n    <tr>\n      <th>2299</th>\n      <td>1339879068397924352</td>\n      <td>RT @dgprPaknavy: High Commissioner of Brunei D...</td>\n      <td>Skinny_El3phant</td>\n      <td>0</td>\n      <td>99</td>\n      <td>127.0.0.1 - Planet Earth</td>\n      <td>2020-12-18 10:23:58</td>\n    </tr>\n  </tbody>\n</table>\n</div>"
     },
     "metadata": {},
     "execution_count": 17
    }
   ],
   "source": [
    "raw_df.tail()"
   ]
  },
  {
   "cell_type": "code",
   "execution_count": 11,
   "metadata": {},
   "outputs": [],
   "source": [
    "raw_df = pd.DataFrame(df, columns = ['id','text','user','location','datetime'])\n",
    "raw_df.to_csv(r'raw_brunei_tweets_tweepy.csv', index = False)"
   ]
  }
 ]
}